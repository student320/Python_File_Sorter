{
 "cells": [
  {
   "cell_type": "markdown",
   "id": "05e7ad7b-cde1-4af9-acb1-de6a2a364072",
   "metadata": {},
   "source": [
    "## Automatic File Sorter"
   ]
  },
  {
   "cell_type": "markdown",
   "id": "e96e8fc5-dfa8-4da5-9c7c-03f8e73e5f60",
   "metadata": {},
   "source": [
    "Sort files in the specified directory into folders based on their file extensions. If a folder does not exist for a file type, creates a new folder to store the new file type and moves the file into the folder. Automatically executes every 24 hours."
   ]
  },
  {
   "cell_type": "code",
   "execution_count": 41,
   "id": "a185e81b-9ccf-4e51-8022-2878a5fcb0f5",
   "metadata": {},
   "outputs": [],
   "source": [
    "import os, shutil"
   ]
  },
  {
   "cell_type": "code",
   "execution_count": 42,
   "id": "4bc408cf-ee01-42f8-91f9-c4ad43f7c158",
   "metadata": {},
   "outputs": [],
   "source": [
    "path = r\"C:\\Users\\Administrator\\OneDrive\\Documents\\python_file_sorter_folder\"\n"
   ]
  },
  {
   "cell_type": "code",
   "execution_count": 44,
   "id": "d14f50d6-5c3a-4fbe-9e27-948f8da9ad16",
   "metadata": {
    "scrolled": true
   },
   "outputs": [
    {
     "data": {
      "text/plain": [
       "['ad_hoc_requsts.sql',\n",
       " 'csv files',\n",
       " 'DA_Resume(1).pdf',\n",
       " 'owid-covid-data.csv',\n",
       " 'pdf files',\n",
       " 'sql files']"
      ]
     },
     "execution_count": 44,
     "metadata": {},
     "output_type": "execute_result"
    }
   ],
   "source": [
    "# List all files in the directory\n",
    "file_names = os.listdir(path)\n",
    "file_names "
   ]
  },
  {
   "cell_type": "markdown",
   "id": "0835ed09-ba4a-4ec5-b045-5aa21e18bafe",
   "metadata": {},
   "source": [
    "We can see there are currently sql, csv, and pdf files and corresponding folders."
   ]
  },
  {
   "cell_type": "code",
   "execution_count": 45,
   "id": "fe46f82d-9733-4413-9d78-01bb78aac37e",
   "metadata": {},
   "outputs": [],
   "source": [
    "def sort_files_by_extension(directory):\n",
    "    \"\"\"\n",
    "    Sort files in the specified directory into folders based on their file extensions.\n",
    "    If a folder does not exist for a file type, creates a new folder to store the new file type and moves the file into the folder.\n",
    "\n",
    "    Parameters:\n",
    "    directory (str): The path to the directory containing the files to be sorted.\n",
    "    \n",
    "    \"\"\"\n",
    "    # List all files in the directory\n",
    "    file_names = os.listdir(directory)\n",
    "\n",
    "    # Loop through each file\n",
    "    for file in file_names:\n",
    "        file_path = os.path.join(directory, file)\n",
    "        \n",
    "        # Skip if it's already a folder\n",
    "        if os.path.isdir(file_path):\n",
    "            continue\n",
    "        \n",
    "        # Extract the file extension (e.g., '.sql', '.pdf', '.csv')\n",
    "        _, file_extension = os.path.splitext(file)\n",
    "        \n",
    "        # Remove the dot from the extension and make it lowercase\n",
    "        file_extension = file_extension[1:].lower()\n",
    "        \n",
    "        # If there is no extension, skip the file\n",
    "        if not file_extension:\n",
    "            continue\n",
    "        \n",
    "        # Create the folder name based on the extension\n",
    "        folder_name = file_extension + \" files\"\n",
    "        \n",
    "        # Create the full folder path\n",
    "        folder_path = os.path.join(directory, folder_name)\n",
    "        \n",
    "        # If the folder doesn't exist, create it\n",
    "        if not os.path.exists(folder_path):\n",
    "            os.makedirs(folder_path)\n",
    "        \n",
    "        # Move the file to the appropriate folder\n",
    "        shutil.move(file_path, os.path.join(folder_path, file))\n",
    "\n",
    "sort_files_by_extension(path)"
   ]
  },
  {
   "cell_type": "code",
   "execution_count": 47,
   "id": "14ef714e-54af-46a6-a4f9-c197a3261550",
   "metadata": {},
   "outputs": [
    {
     "data": {
      "text/plain": [
       "['csv files', 'pdf files', 'sql files']"
      ]
     },
     "execution_count": 47,
     "metadata": {},
     "output_type": "execute_result"
    }
   ],
   "source": [
    "file_names = os.listdir(path)\n",
    "file_names "
   ]
  },
  {
   "cell_type": "markdown",
   "id": "51c3b784-85ac-4bc6-8f26-d8144ad82c65",
   "metadata": {},
   "source": [
    "After running the function once, all files have been moved into their corresponding folders."
   ]
  },
  {
   "cell_type": "code",
   "execution_count": 48,
   "id": "d7e8ae6e-3a5d-4753-8baf-2a5d78ea2dc0",
   "metadata": {},
   "outputs": [
    {
     "data": {
      "text/plain": [
       "['Business_insights_360.pbix',\n",
       " 'csv files',\n",
       " 'Document.docx',\n",
       " 'Insights for Management.pptx',\n",
       " 'pdf files',\n",
       " 'sql files']"
      ]
     },
     "execution_count": 48,
     "metadata": {},
     "output_type": "execute_result"
    }
   ],
   "source": [
    "# check files in directory again after adding new files.\n",
    "file_names = os.listdir(path)\n",
    "file_names "
   ]
  },
  {
   "cell_type": "markdown",
   "id": "694d863e-5de3-466c-aaaf-518f01b59291",
   "metadata": {},
   "source": [
    "Now new files with differnet file types (pbix, docx, and pptx) have been added to the directory."
   ]
  },
  {
   "cell_type": "code",
   "execution_count": 49,
   "id": "6febaca9-fd56-4c4f-bbff-fc07072787ed",
   "metadata": {},
   "outputs": [],
   "source": [
    "#run file sorter again\n",
    "sort_files_by_extension(path)"
   ]
  },
  {
   "cell_type": "code",
   "execution_count": 50,
   "id": "35b1b217-7cb3-4a00-ac7a-5f54d3277d44",
   "metadata": {},
   "outputs": [
    {
     "data": {
      "text/plain": [
       "['csv files',\n",
       " 'docx files',\n",
       " 'pbix files',\n",
       " 'pdf files',\n",
       " 'pptx files',\n",
       " 'sql files']"
      ]
     },
     "execution_count": 50,
     "metadata": {},
     "output_type": "execute_result"
    }
   ],
   "source": [
    "#directory after running again\n",
    "file_names = os.listdir(path)\n",
    "file_names "
   ]
  },
  {
   "cell_type": "markdown",
   "id": "f7c036c4-0579-4505-a6e9-6d22961292f2",
   "metadata": {},
   "source": [
    "New folders have been created for each new file type and each file has been moved into their corresponding folders."
   ]
  },
  {
   "cell_type": "code",
   "execution_count": null,
   "id": "6d986613-240c-4436-ac1b-4c38995d62a9",
   "metadata": {},
   "outputs": [],
   "source": ["#Automatically executes the program to sort directory every 24 hours.\n"
"while True:\n"
    "sort_files_by_extension(path)\n"
    "time.sleep(86400)"  ]
  }
 ],
 "metadata": {
  "kernelspec": {
   "display_name": "Python 3 (ipykernel)",
   "language": "python",
   "name": "python3"
  },
  "language_info": {
   "codemirror_mode": {
    "name": "ipython",
    "version": 3
   },
   "file_extension": ".py",
   "mimetype": "text/x-python",
   "name": "python",
   "nbconvert_exporter": "python",
   "pygments_lexer": "ipython3",
   "version": "3.12.2"
  }
 },
 "nbformat": 4,
 "nbformat_minor": 5
}
